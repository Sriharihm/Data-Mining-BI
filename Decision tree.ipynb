{
 "cells": [
  {
   "cell_type": "code",
   "execution_count": 1,
   "id": "48745347-1e16-4475-a436-f610c2d5a620",
   "metadata": {},
   "outputs": [
    {
     "name": "stdout",
     "output_type": "stream",
     "text": [
      "Original Data:\n",
      "    Age   Salary  Score\n",
      "0  25.0  50000.0   90.0\n",
      "1  30.0  60000.0   85.0\n",
      "2   NaN  55000.0   88.0\n",
      "3  35.0      NaN   75.0\n",
      "4  40.0  65000.0    NaN\n",
      "\n",
      "Data after handling missing values:\n",
      "    Age   Salary  Score\n",
      "0  25.0  50000.0   90.0\n",
      "1  30.0  60000.0   85.0\n",
      "2  32.5  55000.0   88.0\n",
      "3  35.0  57500.0   75.0\n",
      "4  40.0  65000.0   75.0\n",
      "\n",
      "Normalized data:\n",
      "        Age    Salary     Score\n",
      "0  0.000000  0.000000  1.000000\n",
      "1  0.333333  0.666667  0.666667\n",
      "2  0.500000  0.333333  0.866667\n",
      "3  0.666667  0.500000  0.000000\n",
      "4  1.000000  1.000000  0.000000\n"
     ]
    }
   ],
   "source": [
    "import pandas as pd\n",
    "import numpy as np\n",
    "from sklearn.preprocessing import MinMaxScaler\n",
    "\n",
    "\n",
    "data = {\n",
    "    'Age': [25, 30, np.nan, 35, 40],\n",
    "    'Salary': [50000, 60000, 55000, np.nan, 65000],\n",
    "    'Score': [90, 85, 88, 75, np.nan]\n",
    "}\n",
    "\n",
    "df = pd.DataFrame(data)\n",
    "print(\"Original Data:\")\n",
    "print(df)\n",
    "\n",
    "\n",
    "df['Age'] = df['Age'].fillna(df['Age'].mean())\n",
    "df['Salary'] = df['Salary'].fillna(df['Salary'].median())\n",
    "df['Score'] = df['Score'].fillna(df['Score'].mode()[0])\n",
    "print(\"\\nData after handling missing values:\")\n",
    "print(df)\n",
    "\n",
    "scaler = MinMaxScaler()\n",
    "df_normalized = pd.DataFrame(scaler.fit_transform(df), columns=df.columns)  \n",
    "\n",
    "print(\"\\nNormalized data:\")\n",
    "print(df_normalized)"
   ]
  },
  {
   "cell_type": "code",
   "execution_count": null,
   "id": "20a632ea-71c4-40ad-8066-a1217c9eb572",
   "metadata": {},
   "outputs": [],
   "source": []
  },
  {
   "cell_type": "code",
   "execution_count": null,
   "id": "d026bbc0-cef0-407e-8621-94f95a1eda29",
   "metadata": {},
   "outputs": [],
   "source": []
  }
 ],
 "metadata": {
  "kernelspec": {
   "display_name": "Python 3 (ipykernel)",
   "language": "python",
   "name": "python3"
  },
  "language_info": {
   "codemirror_mode": {
    "name": "ipython",
    "version": 3
   },
   "file_extension": ".py",
   "mimetype": "text/x-python",
   "name": "python",
   "nbconvert_exporter": "python",
   "pygments_lexer": "ipython3",
   "version": "3.11.7"
  }
 },
 "nbformat": 4,
 "nbformat_minor": 5
}
